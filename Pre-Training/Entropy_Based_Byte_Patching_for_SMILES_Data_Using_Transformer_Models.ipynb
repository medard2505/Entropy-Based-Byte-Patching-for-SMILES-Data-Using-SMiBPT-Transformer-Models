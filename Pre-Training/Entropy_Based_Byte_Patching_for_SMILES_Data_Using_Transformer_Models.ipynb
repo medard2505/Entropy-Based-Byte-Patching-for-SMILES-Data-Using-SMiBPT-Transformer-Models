{
 "cells": [
  {
   "cell_type": "code",
   "execution_count": 2,
   "id": "2eaecbdb-5ed6-4bed-8576-671ec1dcfec6",
   "metadata": {},
   "outputs": [],
   "source": [
    "import torch\n",
    "import torch.nn as nn\n",
    "import torch.nn.functional as F\n",
    "import torch.optim as optim\n",
    "from torch.utils.data import Dataset, DataLoader\n",
    "from rdkit import Chem\n",
    "from rdkit.Chem import Descriptors\n",
    "import numpy as np\n",
    "import pandas as pd\n",
    "import random\n",
    "import matplotlib.pyplot as plt\n",
    "import seaborn as sns\n",
    "from collections import Counter\n",
    "\n",
    "from tqdm.notebook import tqdm  # Import tqdm for progress bars\n",
    "from transformers import get_scheduler\n",
    "\n",
    "from torch.nn.utils.rnn import pad_sequence\n",
    "import torch.nn.utils.rnn as rnn"
   ]
  },
  {
   "cell_type": "code",
   "execution_count": 3,
   "id": "4d12d6b0-4015-4bfd-84d1-066cf4b828e4",
   "metadata": {},
   "outputs": [],
   "source": [
    "from rdkit import RDLogger  # Import RDKit Logger\n",
    "\n",
    "# Suppress all RDKit warnings\n",
    "RDLogger.DisableLog('rdApp.*')"
   ]
  },
  {
   "cell_type": "code",
   "execution_count": 4,
   "id": "7fbfaa77-3894-4606-bc32-86db0387622d",
   "metadata": {},
   "outputs": [
    {
     "name": "stdout",
     "output_type": "stream",
     "text": [
      "True\n",
      "11.8\n"
     ]
    }
   ],
   "source": [
    "print(torch.cuda.is_available())  # Should return True\n",
    "print(torch.version.cuda) "
   ]
  },
  {
   "cell_type": "markdown",
   "id": "9486b9f7-627b-43cf-b85d-8f91e57b54c5",
   "metadata": {},
   "source": [
    "### DATASETS FOR TRAINING"
   ]
  },
  {
   "cell_type": "code",
   "execution_count": 4,
   "id": "a94d79dc-104b-4fc9-bf80-60eb65b56511",
   "metadata": {},
   "outputs": [
    {
     "data": {
      "text/html": [
       "<div>\n",
       "<style scoped>\n",
       "    .dataframe tbody tr th:only-of-type {\n",
       "        vertical-align: middle;\n",
       "    }\n",
       "\n",
       "    .dataframe tbody tr th {\n",
       "        vertical-align: top;\n",
       "    }\n",
       "\n",
       "    .dataframe thead th {\n",
       "        text-align: right;\n",
       "    }\n",
       "</style>\n",
       "<table border=\"1\" class=\"dataframe\">\n",
       "  <thead>\n",
       "    <tr style=\"text-align: right;\">\n",
       "      <th></th>\n",
       "      <th>SMILES</th>\n",
       "    </tr>\n",
       "  </thead>\n",
       "  <tbody>\n",
       "    <tr>\n",
       "      <th>0</th>\n",
       "      <td>CN(c1ccccc1)c1ccccc1C(=O)NCC1(O)CCOCC1</td>\n",
       "    </tr>\n",
       "    <tr>\n",
       "      <th>1</th>\n",
       "      <td>CC[NH+](CC)C1CCC([NH2+]C2CC2)(C(=O)[O-])C1</td>\n",
       "    </tr>\n",
       "    <tr>\n",
       "      <th>2</th>\n",
       "      <td>COCC(CNC(=O)c1ccc2c(c1)NC(=O)C2)OC</td>\n",
       "    </tr>\n",
       "    <tr>\n",
       "      <th>3</th>\n",
       "      <td>OCCn1cc(CNc2cccc3c2CCCC3)nn1</td>\n",
       "    </tr>\n",
       "    <tr>\n",
       "      <th>4</th>\n",
       "      <td>CCCCCCc1ccc(C#Cc2ccc(C#CC3=CC=C(CCC)CC3)c(C3CC...</td>\n",
       "    </tr>\n",
       "    <tr>\n",
       "      <th>...</th>\n",
       "      <td>...</td>\n",
       "    </tr>\n",
       "    <tr>\n",
       "      <th>9999995</th>\n",
       "      <td>CC(=O)C(C)Cc1ccc2c(c1)NC(=O)CO2</td>\n",
       "    </tr>\n",
       "    <tr>\n",
       "      <th>9999996</th>\n",
       "      <td>O=C(Cn1cc(C=C2NC(=O)N(Cc3ccccc3F)C2=O)c2ccccc2...</td>\n",
       "    </tr>\n",
       "    <tr>\n",
       "      <th>9999997</th>\n",
       "      <td>COc1cc(C(F)(F)F)cc(n2c(C)nc(C#Cc3ccnc(Cl)c3)c2...</td>\n",
       "    </tr>\n",
       "    <tr>\n",
       "      <th>9999998</th>\n",
       "      <td>O=C(NCc1ccccc1)N1CCC2(CC1)OCCc1c2[nH]c2ccccc12</td>\n",
       "    </tr>\n",
       "    <tr>\n",
       "      <th>9999999</th>\n",
       "      <td>CC(C)OC(=O)Cc1ccc(N)cn1</td>\n",
       "    </tr>\n",
       "  </tbody>\n",
       "</table>\n",
       "<p>10000000 rows × 1 columns</p>\n",
       "</div>"
      ],
      "text/plain": [
       "                                                    SMILES\n",
       "0                   CN(c1ccccc1)c1ccccc1C(=O)NCC1(O)CCOCC1\n",
       "1               CC[NH+](CC)C1CCC([NH2+]C2CC2)(C(=O)[O-])C1\n",
       "2                       COCC(CNC(=O)c1ccc2c(c1)NC(=O)C2)OC\n",
       "3                             OCCn1cc(CNc2cccc3c2CCCC3)nn1\n",
       "4        CCCCCCc1ccc(C#Cc2ccc(C#CC3=CC=C(CCC)CC3)c(C3CC...\n",
       "...                                                    ...\n",
       "9999995                    CC(=O)C(C)Cc1ccc2c(c1)NC(=O)CO2\n",
       "9999996  O=C(Cn1cc(C=C2NC(=O)N(Cc3ccccc3F)C2=O)c2ccccc2...\n",
       "9999997  COc1cc(C(F)(F)F)cc(n2c(C)nc(C#Cc3ccnc(Cl)c3)c2...\n",
       "9999998     O=C(NCc1ccccc1)N1CCC2(CC1)OCCc1c2[nH]c2ccccc12\n",
       "9999999                            CC(C)OC(=O)Cc1ccc(N)cn1\n",
       "\n",
       "[10000000 rows x 1 columns]"
      ]
     },
     "execution_count": 4,
     "metadata": {},
     "output_type": "execute_result"
    }
   ],
   "source": [
    "# SMILES datasets from PubChem database (ChemBERTa: Large-Scale Self-Supervised Pretraining for Molecular Property Prediction.)\n",
    "\n",
    "# path = '/home/medard/ChemBERTa Data Trial/pubchem_10m_ant_lab.txt'\n",
    "chemberta_10m = pd.read_csv('/home/medard/ChemBERTa Data Trial/pubchem_10m_ant_lab.txt', sep=\" \", header=None, names=[\"SMILES\"])\n",
    "chemberta_10m"
   ]
  },
  {
   "cell_type": "code",
   "execution_count": 5,
   "id": "37e1a5b3-31ed-44c7-a7ca-4087ff1313d3",
   "metadata": {},
   "outputs": [
    {
     "data": {
      "text/html": [
       "<div>\n",
       "<style scoped>\n",
       "    .dataframe tbody tr th:only-of-type {\n",
       "        vertical-align: middle;\n",
       "    }\n",
       "\n",
       "    .dataframe tbody tr th {\n",
       "        vertical-align: top;\n",
       "    }\n",
       "\n",
       "    .dataframe thead th {\n",
       "        text-align: right;\n",
       "    }\n",
       "</style>\n",
       "<table border=\"1\" class=\"dataframe\">\n",
       "  <thead>\n",
       "    <tr style=\"text-align: right;\">\n",
       "      <th></th>\n",
       "      <th>SMILES</th>\n",
       "    </tr>\n",
       "  </thead>\n",
       "  <tbody>\n",
       "    <tr>\n",
       "      <th>count</th>\n",
       "      <td>10000000</td>\n",
       "    </tr>\n",
       "    <tr>\n",
       "      <th>unique</th>\n",
       "      <td>10000000</td>\n",
       "    </tr>\n",
       "    <tr>\n",
       "      <th>top</th>\n",
       "      <td>CN(c1ccccc1)c1ccccc1C(=O)NCC1(O)CCOCC1</td>\n",
       "    </tr>\n",
       "    <tr>\n",
       "      <th>freq</th>\n",
       "      <td>1</td>\n",
       "    </tr>\n",
       "  </tbody>\n",
       "</table>\n",
       "</div>"
      ],
      "text/plain": [
       "                                        SMILES\n",
       "count                                 10000000\n",
       "unique                                10000000\n",
       "top     CN(c1ccccc1)c1ccccc1C(=O)NCC1(O)CCOCC1\n",
       "freq                                         1"
      ]
     },
     "execution_count": 5,
     "metadata": {},
     "output_type": "execute_result"
    }
   ],
   "source": [
    "chemberta_10m.describe()"
   ]
  },
  {
   "cell_type": "code",
   "execution_count": 6,
   "id": "ff867480-9ab3-4626-a545-0c9201ee392f",
   "metadata": {},
   "outputs": [
    {
     "data": {
      "text/html": [
       "<div>\n",
       "<style scoped>\n",
       "    .dataframe tbody tr th:only-of-type {\n",
       "        vertical-align: middle;\n",
       "    }\n",
       "\n",
       "    .dataframe tbody tr th {\n",
       "        vertical-align: top;\n",
       "    }\n",
       "\n",
       "    .dataframe thead th {\n",
       "        text-align: right;\n",
       "    }\n",
       "</style>\n",
       "<table border=\"1\" class=\"dataframe\">\n",
       "  <thead>\n",
       "    <tr style=\"text-align: right;\">\n",
       "      <th></th>\n",
       "      <th>SMILES</th>\n",
       "    </tr>\n",
       "  </thead>\n",
       "  <tbody>\n",
       "    <tr>\n",
       "      <th>0</th>\n",
       "      <td>CCCC(=O)NNC(=O)Nc1ccccc1</td>\n",
       "    </tr>\n",
       "    <tr>\n",
       "      <th>1</th>\n",
       "      <td>CC(=O)NC1CCC2(C)C(CCC3(C)C2C(=O)C=C2C4C(C)C(C)...</td>\n",
       "    </tr>\n",
       "    <tr>\n",
       "      <th>2</th>\n",
       "      <td>CC(=O)NC(C)Cc1ccc(C#Cc2ccnc(N3CCCC(F)C3)n2)cc1</td>\n",
       "    </tr>\n",
       "    <tr>\n",
       "      <th>3</th>\n",
       "      <td>Cc1cccc(CCNC(=O)C2CCC(=O)N(Cc3ccc(Cl)cc3)C2)n1</td>\n",
       "    </tr>\n",
       "    <tr>\n",
       "      <th>4</th>\n",
       "      <td>CC1C=CN(N(C)C)C2=C1C(=O)c1cnccc1C2=O</td>\n",
       "    </tr>\n",
       "    <tr>\n",
       "      <th>...</th>\n",
       "      <td>...</td>\n",
       "    </tr>\n",
       "    <tr>\n",
       "      <th>1591373</th>\n",
       "      <td>O=C(O)CCc1ccc(-c2c(C=Cc3ccc4ccccc4n3)nc3c(N4CC...</td>\n",
       "    </tr>\n",
       "    <tr>\n",
       "      <th>1591374</th>\n",
       "      <td>CCOCCc1ccc(OCCNC(=O)c2cc(C(C)(C)C)nn2C)c(C)c1</td>\n",
       "    </tr>\n",
       "    <tr>\n",
       "      <th>1591375</th>\n",
       "      <td>NCCCC(=O)Nc1ccc(C(=O)Nc2nccs2)cc1</td>\n",
       "    </tr>\n",
       "    <tr>\n",
       "      <th>1591376</th>\n",
       "      <td>COc1ccc(C2C(C#N)=C(N=CN3CCN(C)CC3)OC3=C2C(=O)C...</td>\n",
       "    </tr>\n",
       "    <tr>\n",
       "      <th>1591377</th>\n",
       "      <td>O=C(CC(NC(=O)c1ccccc1)c1ccccc1)Oc1ccc([N+](=O)...</td>\n",
       "    </tr>\n",
       "  </tbody>\n",
       "</table>\n",
       "<p>1591378 rows × 1 columns</p>\n",
       "</div>"
      ],
      "text/plain": [
       "                                                    SMILES\n",
       "0                                 CCCC(=O)NNC(=O)Nc1ccccc1\n",
       "1        CC(=O)NC1CCC2(C)C(CCC3(C)C2C(=O)C=C2C4C(C)C(C)...\n",
       "2           CC(=O)NC(C)Cc1ccc(C#Cc2ccnc(N3CCCC(F)C3)n2)cc1\n",
       "3           Cc1cccc(CCNC(=O)C2CCC(=O)N(Cc3ccc(Cl)cc3)C2)n1\n",
       "4                     CC1C=CN(N(C)C)C2=C1C(=O)c1cnccc1C2=O\n",
       "...                                                    ...\n",
       "1591373  O=C(O)CCc1ccc(-c2c(C=Cc3ccc4ccccc4n3)nc3c(N4CC...\n",
       "1591374      CCOCCc1ccc(OCCNC(=O)c2cc(C(C)(C)C)nn2C)c(C)c1\n",
       "1591375                  NCCCC(=O)Nc1ccc(C(=O)Nc2nccs2)cc1\n",
       "1591376  COc1ccc(C2C(C#N)=C(N=CN3CCN(C)CC3)OC3=C2C(=O)C...\n",
       "1591377  O=C(CC(NC(=O)c1ccccc1)c1ccccc1)Oc1ccc([N+](=O)...\n",
       "\n",
       "[1591378 rows x 1 columns]"
      ]
     },
     "execution_count": 6,
     "metadata": {},
     "output_type": "execute_result"
    }
   ],
   "source": [
    "# SMILES datasets from MolBert and MolRoPE-Bert\n",
    "\n",
    "molbert_smiles = pd.read_csv('/home/medard/Bert pretraining for SMILES/molrope_smiles_all.smiles', header=None, names=[\"SMILES\"])\n",
    "molbert_smiles"
   ]
  },
  {
   "cell_type": "code",
   "execution_count": 7,
   "id": "d53600d2-6340-4464-83b0-158ea136b3d9",
   "metadata": {},
   "outputs": [
    {
     "data": {
      "text/html": [
       "<div>\n",
       "<style scoped>\n",
       "    .dataframe tbody tr th:only-of-type {\n",
       "        vertical-align: middle;\n",
       "    }\n",
       "\n",
       "    .dataframe tbody tr th {\n",
       "        vertical-align: top;\n",
       "    }\n",
       "\n",
       "    .dataframe thead th {\n",
       "        text-align: right;\n",
       "    }\n",
       "</style>\n",
       "<table border=\"1\" class=\"dataframe\">\n",
       "  <thead>\n",
       "    <tr style=\"text-align: right;\">\n",
       "      <th></th>\n",
       "      <th>SMILES</th>\n",
       "    </tr>\n",
       "  </thead>\n",
       "  <tbody>\n",
       "    <tr>\n",
       "      <th>count</th>\n",
       "      <td>1591378</td>\n",
       "    </tr>\n",
       "    <tr>\n",
       "      <th>unique</th>\n",
       "      <td>1591378</td>\n",
       "    </tr>\n",
       "    <tr>\n",
       "      <th>top</th>\n",
       "      <td>CCCC(=O)NNC(=O)Nc1ccccc1</td>\n",
       "    </tr>\n",
       "    <tr>\n",
       "      <th>freq</th>\n",
       "      <td>1</td>\n",
       "    </tr>\n",
       "  </tbody>\n",
       "</table>\n",
       "</div>"
      ],
      "text/plain": [
       "                          SMILES\n",
       "count                    1591378\n",
       "unique                   1591378\n",
       "top     CCCC(=O)NNC(=O)Nc1ccccc1\n",
       "freq                           1"
      ]
     },
     "execution_count": 7,
     "metadata": {},
     "output_type": "execute_result"
    }
   ],
   "source": [
    "molbert_smiles.describe()"
   ]
  },
  {
   "cell_type": "code",
   "execution_count": 8,
   "id": "b10202db-14bd-477f-be87-79fa5b4f7a15",
   "metadata": {},
   "outputs": [
    {
     "data": {
      "text/html": [
       "<div>\n",
       "<style scoped>\n",
       "    .dataframe tbody tr th:only-of-type {\n",
       "        vertical-align: middle;\n",
       "    }\n",
       "\n",
       "    .dataframe tbody tr th {\n",
       "        vertical-align: top;\n",
       "    }\n",
       "\n",
       "    .dataframe thead th {\n",
       "        text-align: right;\n",
       "    }\n",
       "</style>\n",
       "<table border=\"1\" class=\"dataframe\">\n",
       "  <thead>\n",
       "    <tr style=\"text-align: right;\">\n",
       "      <th></th>\n",
       "      <th>isosmiles</th>\n",
       "    </tr>\n",
       "  </thead>\n",
       "  <tbody>\n",
       "    <tr>\n",
       "      <th>0</th>\n",
       "      <td>C(C(=O)COP(=O)(O)O)N</td>\n",
       "    </tr>\n",
       "    <tr>\n",
       "      <th>1</th>\n",
       "      <td>C(=O)C(C(=O)O)N</td>\n",
       "    </tr>\n",
       "    <tr>\n",
       "      <th>2</th>\n",
       "      <td>C1C(C(C(OC1O)CO)O)O</td>\n",
       "    </tr>\n",
       "    <tr>\n",
       "      <th>3</th>\n",
       "      <td>C1=NC(=C2C(=N1)N(C=N2)C3C(C(C(O3)COP(=O)(O)O)O...</td>\n",
       "    </tr>\n",
       "    <tr>\n",
       "      <th>4</th>\n",
       "      <td>C(C(C(=O)O)N)Cl</td>\n",
       "    </tr>\n",
       "    <tr>\n",
       "      <th>...</th>\n",
       "      <td>...</td>\n",
       "    </tr>\n",
       "    <tr>\n",
       "      <th>6770340</th>\n",
       "      <td>C(C(=O)[O-])C(CC(=O)[O-])(C(=O)[O-])O.C(C(=O)[...</td>\n",
       "    </tr>\n",
       "    <tr>\n",
       "      <th>6770341</th>\n",
       "      <td>[C@@H]([C@H](C(=O)[O-])O)(C(=O)[O-])O.[PbH2+2]</td>\n",
       "    </tr>\n",
       "    <tr>\n",
       "      <th>6770342</th>\n",
       "      <td>CC[C@@H](C)[C@H]1C(=O)NCC(=O)N[C@H]2C[S@@](=O)...</td>\n",
       "    </tr>\n",
       "    <tr>\n",
       "      <th>6770343</th>\n",
       "      <td>C[C@]1(CCC23COC4(C2C1)CCC5[C@]6(CCC(C(C6CC[C@]...</td>\n",
       "    </tr>\n",
       "    <tr>\n",
       "      <th>6770344</th>\n",
       "      <td>CC[C@H](C)[C@@H]1[C@H](CC[C@@]2(O1)C[C@@H]3C[C...</td>\n",
       "    </tr>\n",
       "  </tbody>\n",
       "</table>\n",
       "<p>6770345 rows × 1 columns</p>\n",
       "</div>"
      ],
      "text/plain": [
       "                                                 isosmiles\n",
       "0                                     C(C(=O)COP(=O)(O)O)N\n",
       "1                                          C(=O)C(C(=O)O)N\n",
       "2                                      C1C(C(C(OC1O)CO)O)O\n",
       "3        C1=NC(=C2C(=N1)N(C=N2)C3C(C(C(O3)COP(=O)(O)O)O...\n",
       "4                                          C(C(C(=O)O)N)Cl\n",
       "...                                                    ...\n",
       "6770340  C(C(=O)[O-])C(CC(=O)[O-])(C(=O)[O-])O.C(C(=O)[...\n",
       "6770341     [C@@H]([C@H](C(=O)[O-])O)(C(=O)[O-])O.[PbH2+2]\n",
       "6770342  CC[C@@H](C)[C@H]1C(=O)NCC(=O)N[C@H]2C[S@@](=O)...\n",
       "6770343  C[C@]1(CCC23COC4(C2C1)CCC5[C@]6(CCC(C(C6CC[C@]...\n",
       "6770344  CC[C@H](C)[C@@H]1[C@H](CC[C@@]2(O1)C[C@@H]3C[C...\n",
       "\n",
       "[6770345 rows x 1 columns]"
      ]
     },
     "execution_count": 8,
     "metadata": {},
     "output_type": "execute_result"
    }
   ],
   "source": [
    "# SMILES datasets from PubChem database (By Medard)\n",
    "\n",
    "base_path = \"/home/medard/Bert pretraining for SMILES/\"\n",
    "# base_path = \"/home/user/10TB/Data/SMILES/\"\n",
    "\n",
    "pubchem_list = []\n",
    "\n",
    "for i in range(6):\n",
    "    pubchem = pd.read_csv(base_path + f\"PubChem_compound_list_{i+1}.csv\",\n",
    "                     usecols = [\"isosmiles\"],\n",
    "                     )\n",
    "    pubchem_list.append(pubchem)\n",
    "    \n",
    "all_pubchem = pd.concat([pubchem_list[0], pubchem_list[1],\n",
    "                        pubchem_list[2], pubchem_list[3],\n",
    "                        pubchem_list[4], pubchem_list[5]],\n",
    "                       ignore_index = True,\n",
    "                        axis=0,\n",
    "                       )\n",
    "all_pubchem"
   ]
  },
  {
   "cell_type": "code",
   "execution_count": 9,
   "id": "0cf3426a-8a72-4968-a453-35a6a6a794c0",
   "metadata": {},
   "outputs": [
    {
     "data": {
      "text/html": [
       "<div>\n",
       "<style scoped>\n",
       "    .dataframe tbody tr th:only-of-type {\n",
       "        vertical-align: middle;\n",
       "    }\n",
       "\n",
       "    .dataframe tbody tr th {\n",
       "        vertical-align: top;\n",
       "    }\n",
       "\n",
       "    .dataframe thead th {\n",
       "        text-align: right;\n",
       "    }\n",
       "</style>\n",
       "<table border=\"1\" class=\"dataframe\">\n",
       "  <thead>\n",
       "    <tr style=\"text-align: right;\">\n",
       "      <th></th>\n",
       "      <th>isosmiles</th>\n",
       "    </tr>\n",
       "  </thead>\n",
       "  <tbody>\n",
       "    <tr>\n",
       "      <th>0</th>\n",
       "      <td>C(C(=O)COP(=O)(O)O)N</td>\n",
       "    </tr>\n",
       "    <tr>\n",
       "      <th>1</th>\n",
       "      <td>C(=O)C(C(=O)O)N</td>\n",
       "    </tr>\n",
       "    <tr>\n",
       "      <th>2</th>\n",
       "      <td>C1C(C(C(OC1O)CO)O)O</td>\n",
       "    </tr>\n",
       "    <tr>\n",
       "      <th>3</th>\n",
       "      <td>C1=NC(=C2C(=N1)N(C=N2)C3C(C(C(O3)COP(=O)(O)O)O...</td>\n",
       "    </tr>\n",
       "    <tr>\n",
       "      <th>4</th>\n",
       "      <td>C(C(C(=O)O)N)Cl</td>\n",
       "    </tr>\n",
       "    <tr>\n",
       "      <th>...</th>\n",
       "      <td>...</td>\n",
       "    </tr>\n",
       "    <tr>\n",
       "      <th>6362615</th>\n",
       "      <td>CC(C)(C)C1(CCN2CC3CC4=CC=CC=C4SC5=CC=CC(=C35)C...</td>\n",
       "    </tr>\n",
       "    <tr>\n",
       "      <th>6362616</th>\n",
       "      <td>CC[C@H](C)[C@@H]1[C@H](C=C[C@@]2(O1)C[C@@H]3C[...</td>\n",
       "    </tr>\n",
       "    <tr>\n",
       "      <th>6362617</th>\n",
       "      <td>[Be+2].[O-][Si]([O-])([O-])[O-].[Mn+2].[Zn+2]</td>\n",
       "    </tr>\n",
       "    <tr>\n",
       "      <th>6362618</th>\n",
       "      <td>C(N(CP(=O)(O)[O-])CP(=O)(O)[O-])P(=O)(O)[O-].O...</td>\n",
       "    </tr>\n",
       "    <tr>\n",
       "      <th>6362619</th>\n",
       "      <td>CC1=CC2=C(C(=C1)O)C(=C3C(=O)[C@@H]4[C@@H]([C@@...</td>\n",
       "    </tr>\n",
       "  </tbody>\n",
       "</table>\n",
       "<p>6362620 rows × 1 columns</p>\n",
       "</div>"
      ],
      "text/plain": [
       "                                                 isosmiles\n",
       "0                                     C(C(=O)COP(=O)(O)O)N\n",
       "1                                          C(=O)C(C(=O)O)N\n",
       "2                                      C1C(C(C(OC1O)CO)O)O\n",
       "3        C1=NC(=C2C(=N1)N(C=N2)C3C(C(C(O3)COP(=O)(O)O)O...\n",
       "4                                          C(C(C(=O)O)N)Cl\n",
       "...                                                    ...\n",
       "6362615  CC(C)(C)C1(CCN2CC3CC4=CC=CC=C4SC5=CC=CC(=C35)C...\n",
       "6362616  CC[C@H](C)[C@@H]1[C@H](C=C[C@@]2(O1)C[C@@H]3C[...\n",
       "6362617      [Be+2].[O-][Si]([O-])([O-])[O-].[Mn+2].[Zn+2]\n",
       "6362618  C(N(CP(=O)(O)[O-])CP(=O)(O)[O-])P(=O)(O)[O-].O...\n",
       "6362619  CC1=CC2=C(C(=C1)O)C(=C3C(=O)[C@@H]4[C@@H]([C@@...\n",
       "\n",
       "[6362620 rows x 1 columns]"
      ]
     },
     "execution_count": 9,
     "metadata": {},
     "output_type": "execute_result"
    }
   ],
   "source": [
    "# drop_duplicates after concatenation\n",
    "all_pubchem.drop_duplicates(keep='first',\n",
    "                           inplace=True,\n",
    "                           ignore_index = True)\n",
    "all_pubchem"
   ]
  },
  {
   "cell_type": "code",
   "execution_count": 10,
   "id": "46d90f0a-c159-4b87-be9d-2621c4a132d8",
   "metadata": {},
   "outputs": [
    {
     "data": {
      "text/html": [
       "<div>\n",
       "<style scoped>\n",
       "    .dataframe tbody tr th:only-of-type {\n",
       "        vertical-align: middle;\n",
       "    }\n",
       "\n",
       "    .dataframe tbody tr th {\n",
       "        vertical-align: top;\n",
       "    }\n",
       "\n",
       "    .dataframe thead th {\n",
       "        text-align: right;\n",
       "    }\n",
       "</style>\n",
       "<table border=\"1\" class=\"dataframe\">\n",
       "  <thead>\n",
       "    <tr style=\"text-align: right;\">\n",
       "      <th></th>\n",
       "      <th>isosmiles</th>\n",
       "    </tr>\n",
       "  </thead>\n",
       "  <tbody>\n",
       "    <tr>\n",
       "      <th>count</th>\n",
       "      <td>6362620</td>\n",
       "    </tr>\n",
       "    <tr>\n",
       "      <th>unique</th>\n",
       "      <td>6362620</td>\n",
       "    </tr>\n",
       "    <tr>\n",
       "      <th>top</th>\n",
       "      <td>C(C(=O)COP(=O)(O)O)N</td>\n",
       "    </tr>\n",
       "    <tr>\n",
       "      <th>freq</th>\n",
       "      <td>1</td>\n",
       "    </tr>\n",
       "  </tbody>\n",
       "</table>\n",
       "</div>"
      ],
      "text/plain": [
       "                   isosmiles\n",
       "count                6362620\n",
       "unique               6362620\n",
       "top     C(C(=O)COP(=O)(O)O)N\n",
       "freq                       1"
      ]
     },
     "execution_count": 10,
     "metadata": {},
     "output_type": "execute_result"
    }
   ],
   "source": [
    "all_pubchem.describe()"
   ]
  },
  {
   "cell_type": "markdown",
   "id": "d02f4939-6752-4cb7-b9da-3625308f08c3",
   "metadata": {},
   "source": [
    "#### Concatenate all the dataset for Training"
   ]
  },
  {
   "cell_type": "code",
   "execution_count": 11,
   "id": "31dffa5d-2aff-4f6d-99ce-9cec78d6b31c",
   "metadata": {},
   "outputs": [
    {
     "data": {
      "text/plain": [
       "0                     CN(c1ccccc1)c1ccccc1C(=O)NCC1(O)CCOCC1\n",
       "1                 CC[NH+](CC)C1CCC([NH2+]C2CC2)(C(=O)[O-])C1\n",
       "2                         COCC(CNC(=O)c1ccc2c(c1)NC(=O)C2)OC\n",
       "3                               OCCn1cc(CNc2cccc3c2CCCC3)nn1\n",
       "4          CCCCCCc1ccc(C#Cc2ccc(C#CC3=CC=C(CCC)CC3)c(C3CC...\n",
       "                                 ...                        \n",
       "1591373    O=C(O)CCc1ccc(-c2c(C=Cc3ccc4ccccc4n3)nc3c(N4CC...\n",
       "1591374        CCOCCc1ccc(OCCNC(=O)c2cc(C(C)(C)C)nn2C)c(C)c1\n",
       "1591375                    NCCCC(=O)Nc1ccc(C(=O)Nc2nccs2)cc1\n",
       "1591376    COc1ccc(C2C(C#N)=C(N=CN3CCN(C)CC3)OC3=C2C(=O)C...\n",
       "1591377    O=C(CC(NC(=O)c1ccccc1)c1ccccc1)Oc1ccc([N+](=O)...\n",
       "Length: 17953998, dtype: object"
      ]
     },
     "execution_count": 11,
     "metadata": {},
     "output_type": "execute_result"
    }
   ],
   "source": [
    "all_smiles_for_training = pd.concat([chemberta_10m[\"SMILES\"], all_pubchem[\"isosmiles\"], molbert_smiles[\"SMILES\"],], axis=0)\n",
    "all_smiles_for_training"
   ]
  },
  {
   "cell_type": "code",
   "execution_count": 12,
   "id": "7c62cb68-40b9-4df2-a378-6f6b0b19aeec",
   "metadata": {},
   "outputs": [
    {
     "data": {
      "text/plain": [
       "count                         17953998\n",
       "unique                        17857808\n",
       "top       CCCCCCCCCC(=O)CC(=O)NC1CCCC1\n",
       "freq                                 3\n",
       "dtype: object"
      ]
     },
     "execution_count": 12,
     "metadata": {},
     "output_type": "execute_result"
    }
   ],
   "source": [
    "all_smiles_for_training.describe()"
   ]
  },
  {
   "cell_type": "code",
   "execution_count": 13,
   "id": "ecc686c8-f3a9-400a-ba2b-3083112c9b46",
   "metadata": {},
   "outputs": [
    {
     "data": {
      "text/plain": [
       "array(['CN(c1ccccc1)c1ccccc1C(=O)NCC1(O)CCOCC1',\n",
       "       'CC[NH+](CC)C1CCC([NH2+]C2CC2)(C(=O)[O-])C1',\n",
       "       'COCC(CNC(=O)c1ccc2c(c1)NC(=O)C2)OC', ...,\n",
       "       'NCCCC(=O)Nc1ccc(C(=O)Nc2nccs2)cc1',\n",
       "       'COc1ccc(C2C(C#N)=C(N=CN3CCN(C)CC3)OC3=C2C(=O)CC(C)(C)C3)cc1',\n",
       "       'O=C(CC(NC(=O)c1ccccc1)c1ccccc1)Oc1ccc([N+](=O)[O-])cc1'],\n",
       "      dtype=object)"
      ]
     },
     "execution_count": 13,
     "metadata": {},
     "output_type": "execute_result"
    }
   ],
   "source": [
    "all_smiles_for_training = all_smiles_for_training.unique()\n",
    "all_smiles_for_training"
   ]
  },
  {
   "cell_type": "code",
   "execution_count": 14,
   "id": "a01183cc-e3cd-4206-a08a-57a3d35ec1a6",
   "metadata": {},
   "outputs": [
    {
     "data": {
      "text/plain": [
       "numpy.ndarray"
      ]
     },
     "execution_count": 14,
     "metadata": {},
     "output_type": "execute_result"
    }
   ],
   "source": [
    "type(all_smiles_for_training)"
   ]
  },
  {
   "cell_type": "code",
   "execution_count": 15,
   "id": "ef0765d2-b63a-4197-8866-c5c6ebf04a63",
   "metadata": {},
   "outputs": [
    {
     "data": {
      "text/plain": [
       "17857808"
      ]
     },
     "execution_count": 15,
     "metadata": {},
     "output_type": "execute_result"
    }
   ],
   "source": [
    "len(all_smiles_for_training)"
   ]
  },
  {
   "cell_type": "code",
   "execution_count": 16,
   "id": "c192a67f-0c26-4087-a99c-e4fce1772742",
   "metadata": {},
   "outputs": [
    {
     "data": {
      "text/html": [
       "<div>\n",
       "<style scoped>\n",
       "    .dataframe tbody tr th:only-of-type {\n",
       "        vertical-align: middle;\n",
       "    }\n",
       "\n",
       "    .dataframe tbody tr th {\n",
       "        vertical-align: top;\n",
       "    }\n",
       "\n",
       "    .dataframe thead th {\n",
       "        text-align: right;\n",
       "    }\n",
       "</style>\n",
       "<table border=\"1\" class=\"dataframe\">\n",
       "  <thead>\n",
       "    <tr style=\"text-align: right;\">\n",
       "      <th></th>\n",
       "      <th>unique_smiles</th>\n",
       "    </tr>\n",
       "  </thead>\n",
       "  <tbody>\n",
       "    <tr>\n",
       "      <th>0</th>\n",
       "      <td>CN(c1ccccc1)c1ccccc1C(=O)NCC1(O)CCOCC1</td>\n",
       "    </tr>\n",
       "    <tr>\n",
       "      <th>1</th>\n",
       "      <td>CC[NH+](CC)C1CCC([NH2+]C2CC2)(C(=O)[O-])C1</td>\n",
       "    </tr>\n",
       "    <tr>\n",
       "      <th>2</th>\n",
       "      <td>COCC(CNC(=O)c1ccc2c(c1)NC(=O)C2)OC</td>\n",
       "    </tr>\n",
       "    <tr>\n",
       "      <th>3</th>\n",
       "      <td>OCCn1cc(CNc2cccc3c2CCCC3)nn1</td>\n",
       "    </tr>\n",
       "    <tr>\n",
       "      <th>4</th>\n",
       "      <td>CCCCCCc1ccc(C#Cc2ccc(C#CC3=CC=C(CCC)CC3)c(C3CC...</td>\n",
       "    </tr>\n",
       "    <tr>\n",
       "      <th>...</th>\n",
       "      <td>...</td>\n",
       "    </tr>\n",
       "    <tr>\n",
       "      <th>17857803</th>\n",
       "      <td>O=C(O)CCc1ccc(-c2c(C=Cc3ccc4ccccc4n3)nc3c(N4CC...</td>\n",
       "    </tr>\n",
       "    <tr>\n",
       "      <th>17857804</th>\n",
       "      <td>CCOCCc1ccc(OCCNC(=O)c2cc(C(C)(C)C)nn2C)c(C)c1</td>\n",
       "    </tr>\n",
       "    <tr>\n",
       "      <th>17857805</th>\n",
       "      <td>NCCCC(=O)Nc1ccc(C(=O)Nc2nccs2)cc1</td>\n",
       "    </tr>\n",
       "    <tr>\n",
       "      <th>17857806</th>\n",
       "      <td>COc1ccc(C2C(C#N)=C(N=CN3CCN(C)CC3)OC3=C2C(=O)C...</td>\n",
       "    </tr>\n",
       "    <tr>\n",
       "      <th>17857807</th>\n",
       "      <td>O=C(CC(NC(=O)c1ccccc1)c1ccccc1)Oc1ccc([N+](=O)...</td>\n",
       "    </tr>\n",
       "  </tbody>\n",
       "</table>\n",
       "<p>17857808 rows × 1 columns</p>\n",
       "</div>"
      ],
      "text/plain": [
       "                                              unique_smiles\n",
       "0                    CN(c1ccccc1)c1ccccc1C(=O)NCC1(O)CCOCC1\n",
       "1                CC[NH+](CC)C1CCC([NH2+]C2CC2)(C(=O)[O-])C1\n",
       "2                        COCC(CNC(=O)c1ccc2c(c1)NC(=O)C2)OC\n",
       "3                              OCCn1cc(CNc2cccc3c2CCCC3)nn1\n",
       "4         CCCCCCc1ccc(C#Cc2ccc(C#CC3=CC=C(CCC)CC3)c(C3CC...\n",
       "...                                                     ...\n",
       "17857803  O=C(O)CCc1ccc(-c2c(C=Cc3ccc4ccccc4n3)nc3c(N4CC...\n",
       "17857804      CCOCCc1ccc(OCCNC(=O)c2cc(C(C)(C)C)nn2C)c(C)c1\n",
       "17857805                  NCCCC(=O)Nc1ccc(C(=O)Nc2nccs2)cc1\n",
       "17857806  COc1ccc(C2C(C#N)=C(N=CN3CCN(C)CC3)OC3=C2C(=O)C...\n",
       "17857807  O=C(CC(NC(=O)c1ccccc1)c1ccccc1)Oc1ccc([N+](=O)...\n",
       "\n",
       "[17857808 rows x 1 columns]"
      ]
     },
     "execution_count": 16,
     "metadata": {},
     "output_type": "execute_result"
    }
   ],
   "source": [
    "# Convert numpy array data to pandas dataFrame\n",
    "\n",
    "training_smiles_pd = pd.DataFrame(data=all_smiles_for_training, columns=[\"unique_smiles\"])\n",
    "training_smiles_pd"
   ]
  },
  {
   "cell_type": "code",
   "execution_count": 17,
   "id": "48536f92-24ec-4fb3-9c17-22df741e526c",
   "metadata": {},
   "outputs": [
    {
     "data": {
      "text/html": [
       "<div>\n",
       "<style scoped>\n",
       "    .dataframe tbody tr th:only-of-type {\n",
       "        vertical-align: middle;\n",
       "    }\n",
       "\n",
       "    .dataframe tbody tr th {\n",
       "        vertical-align: top;\n",
       "    }\n",
       "\n",
       "    .dataframe thead th {\n",
       "        text-align: right;\n",
       "    }\n",
       "</style>\n",
       "<table border=\"1\" class=\"dataframe\">\n",
       "  <thead>\n",
       "    <tr style=\"text-align: right;\">\n",
       "      <th></th>\n",
       "      <th>unique_smiles</th>\n",
       "    </tr>\n",
       "  </thead>\n",
       "  <tbody>\n",
       "    <tr>\n",
       "      <th>count</th>\n",
       "      <td>17857808</td>\n",
       "    </tr>\n",
       "    <tr>\n",
       "      <th>unique</th>\n",
       "      <td>17857808</td>\n",
       "    </tr>\n",
       "    <tr>\n",
       "      <th>top</th>\n",
       "      <td>CN(c1ccccc1)c1ccccc1C(=O)NCC1(O)CCOCC1</td>\n",
       "    </tr>\n",
       "    <tr>\n",
       "      <th>freq</th>\n",
       "      <td>1</td>\n",
       "    </tr>\n",
       "  </tbody>\n",
       "</table>\n",
       "</div>"
      ],
      "text/plain": [
       "                                 unique_smiles\n",
       "count                                 17857808\n",
       "unique                                17857808\n",
       "top     CN(c1ccccc1)c1ccccc1C(=O)NCC1(O)CCOCC1\n",
       "freq                                         1"
      ]
     },
     "execution_count": 17,
     "metadata": {},
     "output_type": "execute_result"
    }
   ],
   "source": [
    "training_smiles_pd.describe()"
   ]
  },
  {
   "cell_type": "code",
   "execution_count": 18,
   "id": "eee50717-ff68-41f1-9626-0cc78b944630",
   "metadata": {
    "scrolled": true
   },
   "outputs": [
    {
     "data": {
      "text/plain": [
       "17857808"
      ]
     },
     "execution_count": 18,
     "metadata": {},
     "output_type": "execute_result"
    }
   ],
   "source": [
    "smiles_list = training_smiles_pd['unique_smiles'].to_list()\n",
    "len(smiles_list)"
   ]
  },
  {
   "cell_type": "code",
   "execution_count": 19,
   "id": "0121ba85-36b7-44e9-bba9-0db1ded16e26",
   "metadata": {},
   "outputs": [
    {
     "data": {
      "text/plain": [
       "list"
      ]
     },
     "execution_count": 19,
     "metadata": {},
     "output_type": "execute_result"
    }
   ],
   "source": [
    "type(smiles_list)"
   ]
  },
  {
   "cell_type": "code",
   "execution_count": 20,
   "id": "dca2ff2b-a203-4ed0-9647-ddb55071178b",
   "metadata": {},
   "outputs": [
    {
     "data": {
      "text/plain": [
       "17857808"
      ]
     },
     "execution_count": 20,
     "metadata": {},
     "output_type": "execute_result"
    }
   ],
   "source": [
    "len(smiles_list)"
   ]
  },
  {
   "cell_type": "code",
   "execution_count": 21,
   "id": "c9460415-d2d5-43c8-8b0a-74910f606d39",
   "metadata": {},
   "outputs": [],
   "source": [
    "# Ensure there are at least 500,000 samples\n",
    "num_samples = min(10000000, len(smiles_list))\n",
    "smiles_sample = random.sample(smiles_list, num_samples)  # Randomly select 500,000 without replacement"
   ]
  },
  {
   "cell_type": "code",
   "execution_count": 22,
   "id": "c2719bf8-a23f-41a7-82e5-3e990c51e891",
   "metadata": {},
   "outputs": [
    {
     "data": {
      "text/plain": [
       "10000000"
      ]
     },
     "execution_count": 22,
     "metadata": {},
     "output_type": "execute_result"
    }
   ],
   "source": [
    "len(smiles_sample)"
   ]
  },
  {
   "cell_type": "code",
   "execution_count": 23,
   "id": "c9761bb4-843b-44bf-b3c8-a2f6dee944df",
   "metadata": {},
   "outputs": [
    {
     "data": {
      "text/plain": [
       "list"
      ]
     },
     "execution_count": 23,
     "metadata": {},
     "output_type": "execute_result"
    }
   ],
   "source": [
    "type(smiles_sample)"
   ]
  },
  {
   "cell_type": "code",
   "execution_count": null,
   "id": "a1eff6d9-6fe4-493a-b39c-d5f8dbde3f63",
   "metadata": {},
   "outputs": [],
   "source": []
  },
  {
   "cell_type": "markdown",
   "id": "509fc9a1-6b88-4767-8410-605501bf1604",
   "metadata": {},
   "source": [
    "### ENTROPY, PATCHING, MASKING, TRAINING, and VISUALIZATION"
   ]
  },
  {
   "cell_type": "code",
   "execution_count": 5,
   "id": "c9467f42-97e5-4766-9936-a8f4e4838878",
   "metadata": {},
   "outputs": [],
   "source": [
    "# 1. Compute rolling entropy for SMILES byte sequences\n",
    "def compute_entropy(byte_seq, window_size=5): #, stride=1\n",
    "    entropy_values = []\n",
    "\n",
    "    # If sequence is shorter than window size, assign uniform entropy\n",
    "    if len(byte_seq) < window_size:\n",
    "        return [0] * len(byte_seq)  # Assign zero entropy if sequence is too short\n",
    "\n",
    "    # Compute entropy over the sliding window\n",
    "    for i in range(len(byte_seq) - window_size + 1): #, stride\n",
    "        window = byte_seq[i : i + window_size]\n",
    "        freq = Counter(window)\n",
    "        probs = np.array(list(freq.values())) / sum(freq.values())\n",
    "        entropy = -np.sum(probs * np.log2(probs))\n",
    "        entropy_values.append(entropy)\n",
    "\n",
    "    # **Ensure output length matches byte_seq length**\n",
    "    # Ensure entropy_values length matches byte_seq length\n",
    "    if len(entropy_values) < len(byte_seq):\n",
    "        entropy_values += [entropy_values[-1]] * (len(byte_seq) - len(entropy_values))\n",
    "        \n",
    "    return entropy_values"
   ]
  },
  {
   "cell_type": "code",
   "execution_count": 7,
   "id": "614f60c8-ebda-4d62-8bab-b55b96cf8d9e",
   "metadata": {},
   "outputs": [],
   "source": [
    "# 2. Identify chemical motifs: Updated\n",
    "def identify_motifs(smiles):\n",
    "    mol = Chem.MolFromSmiles(smiles)\n",
    "    if not mol:\n",
    "        return {}\n",
    "\n",
    "    metal_atoms = {3, 4, 11, 12, 19, 20, 30, 31, 38, 39, 48, 49, 56, 57, 72, 73, 80, 81, 88, 89}  # Common metal atomic numbers\n",
    "\n",
    "    motifs = {\n",
    "        \"aromatic\": False, \"aromatic_positions\": [],\n",
    "        \"charged\": False, \"charged_positions\": [],\n",
    "        \"large_ring\": False,\n",
    "        \"functional_groups\": False,\n",
    "        \"branches\": False,\n",
    "        \"double_bonds\": False,\n",
    "        \"triple_bonds\": False,\n",
    "        \"metal\": False, \"metal_positions\": [],\n",
    "        \"non_metal\": False\n",
    "    }\n",
    "\n",
    "    # Identify atom-level motifs\n",
    "    for atom in mol.GetAtoms():\n",
    "        idx = atom.GetIdx()  # Get the atom index\n",
    "\n",
    "        # Aromatic atoms\n",
    "        if atom.GetIsAromatic():\n",
    "            motifs[\"aromatic\"] = True\n",
    "            motifs[\"aromatic_positions\"].append(idx)\n",
    "\n",
    "        # Charged atoms\n",
    "        if atom.GetFormalCharge() != 0:\n",
    "            motifs[\"charged\"] = True\n",
    "            motifs[\"charged_positions\"].append(idx)\n",
    "\n",
    "        # Metal atoms\n",
    "        if atom.GetAtomicNum() in metal_atoms:\n",
    "            motifs[\"metal\"] = True\n",
    "            motifs[\"metal_positions\"].append(idx)\n",
    "        else:\n",
    "            motifs[\"non_metal\"] = True  # Anything not in metal_atoms and not H\n",
    "\n",
    "        # Functional groups (atoms with more than 2 neighbors)\n",
    "        if len(atom.GetNeighbors()) > 2:\n",
    "            motifs[\"functional_groups\"] = True\n",
    "\n",
    "        # Branches (atoms with more than 3 neighbors)\n",
    "        if len(atom.GetNeighbors()) > 3:\n",
    "            motifs[\"branches\"] = True\n",
    "\n",
    "    # Identify bond-level motifs\n",
    "    for bond in mol.GetBonds():\n",
    "        if bond.GetBondTypeAsDouble() == 2.0:\n",
    "            motifs[\"double_bonds\"] = True\n",
    "        if bond.GetBondTypeAsDouble() == 3.0:\n",
    "            motifs[\"triple_bonds\"] = True\n",
    "\n",
    "    # Identify large rings\n",
    "    rings = Chem.GetSymmSSSR(mol)\n",
    "    if any(len(ring) > 6 for ring in rings):\n",
    "        motifs[\"large_ring\"] = True\n",
    "\n",
    "    return motifs\n"
   ]
  },
  {
   "cell_type": "code",
   "execution_count": 8,
   "id": "7d3e4925-01a8-4d08-b00b-fe62a79ced5d",
   "metadata": {},
   "outputs": [],
   "source": [
    "# 3. Dynamic Byte Patching with Entropy Thresholding\n",
    "def dynamic_byte_patching(smiles, base_entropy_threshold=1.5, min_patch_size=2, max_patch_size=6, return_motif_sizes=False):    \n",
    "    byte_seq = list(smiles.encode(\"utf-8\"))\n",
    "\n",
    "    # Define special tokens\n",
    "    sos_token = 256\n",
    "    eos_token = 257\n",
    "\n",
    "    # If sequence is too short for entropy calculation, return single patch\n",
    "    if len(byte_seq) < min_patch_size:\n",
    "        return [[sos_token] + byte_seq + [eos_token]], [0], [], [], []  # Entire sequence as one patch with entropy 0 /Return empty lists for patch logs\n",
    "        \n",
    "    entropy_values = compute_entropy(byte_seq, window_size=5)\n",
    "\n",
    "    # Ensure entropy_values length matches byte_seq length\n",
    "    entropy_values = entropy_values + [entropy_values[-1]] * (len(byte_seq) - len(entropy_values))\n",
    "    \n",
    "    motifs = identify_motifs(smiles)\n",
    "    # print(\"Motifs Detected:\", motifs)\n",
    "\n",
    "    # Dynamically adjust entropy threshold based on chemical properties\n",
    "    entropy_threshold = base_entropy_threshold\n",
    "    # if motifs[\"aromatic\"]:\n",
    "    if motifs.get(\"aromatic\", False):  # Use .get() to avoid KeyError\n",
    "        entropy_threshold *= 1.2  # Increase threshold for aromatic rings\n",
    "    # if motifs[\"charged\"]:\n",
    "    if motifs.get(\"charged\", False):  # Use .get() to avoid KeyError\n",
    "        entropy_threshold *= 0.8  # Reduce threshold for charged groups\n",
    "    # if motifs[\"functional_groups\"]:\n",
    "    if motifs.get(\"functional_groups\", False):  # Safe access with get()\n",
    "        entropy_threshold *= 1.1  # Slightly increase threshold for functional groups\n",
    "    # if motifs[\"branches\"]:\n",
    "    if motifs.get(\"branches\", False):\n",
    "        entropy_threshold *= 0.9  # Reduce threshold for branched structures\n",
    "    # if motifs[\"double_bonds\"] or motifs[\"triple_bonds\"]:\n",
    "    if motifs.get(\"double_bonds\", False) or motifs.get(\"triple_bonds\", False):\n",
    "        entropy_threshold *= 1.15  # Increase threshold for conjugated bonds\n",
    "    # if motifs[\"metal\"]:\n",
    "    if motifs.get(\"metal\", False):\n",
    "        entropy_threshold *= 0.75  # Lower threshold for metals to preserve interactions\n",
    "    # if motifs[\"non_metal\"]:\n",
    "    if motifs.get(\"non_metal\", False):\n",
    "        entropy_threshold *= 1.05  # Slightly increase for non-metal structures\n",
    "\n",
    "    patches, entropy_log = [], []\n",
    "    aromatic_patch_sizes, metal_patch_sizes, charged_patch_sizes = [], [], []\n",
    "    \n",
    "    i = 0\n",
    "    while i < len(byte_seq):\n",
    "        local_entropy = entropy_values[min(i, len(entropy_values)-1)]\n",
    "\n",
    "        # Adjust patch size based on entropy\n",
    "        if local_entropy < entropy_threshold * 0.8:\n",
    "            patch_size = max_patch_size  # Low entropy → Larger patches\n",
    "        elif local_entropy > entropy_threshold * 1.2:\n",
    "            patch_size = min_patch_size  # High entropy → Smaller patches\n",
    "        else:\n",
    "            patch_size = (min_patch_size + max_patch_size) // 2  # Medium entropy → Medium patches\n",
    "        \n",
    "        # Ensure patch size does not exceed sequence length\n",
    "        patch_size = min(patch_size, len(byte_seq) - i)\n",
    "\n",
    "        # Ensure patch does NOT include `[SOS]` (0) or `[EOS]` (1)\n",
    "        while i < len(byte_seq) and (byte_seq[i] == sos_token or byte_seq[i] == eos_token):\n",
    "            i += 1  # Skip `[SOS]` and `[EOS]`\n",
    "\n",
    "        # If patch starts with `[SOS]` or `[EOS]`, shift it\n",
    "        if i + patch_size < len(byte_seq) and (byte_seq[i + patch_size - 1] == sos_token or byte_seq[i + patch_size - 1] == eos_token):\n",
    "            patch_size -= 1\n",
    "\n",
    "        # Check if patch contains any key motifs\n",
    "        contains_aromatic = any(byte in motifs.get(\"aromatic_positions\", []) for byte in range(i, i + patch_size))\n",
    "        contains_metal = any(byte in motifs.get(\"metal_positions\", []) for byte in range(i, i + patch_size))\n",
    "        contains_charged = any(byte in motifs.get(\"charged_positions\", []) for byte in range(i, i + patch_size))\n",
    "\n",
    "        # print(f\"Patch at {i}-{i+patch_size}: {byte_seq[i:i+patch_size]}\")\n",
    "        # print(f\"Contains: Aromatic={contains_aromatic}, Metal={contains_metal}, Charged={contains_charged}\")\n",
    "\n",
    "        if contains_aromatic:\n",
    "            aromatic_patch_sizes.append(patch_size)\n",
    "        if contains_metal:\n",
    "            metal_patch_sizes.append(patch_size)\n",
    "        if contains_charged:\n",
    "            charged_patch_sizes.append(patch_size)\n",
    "\n",
    "        patches.append(byte_seq[i : i + patch_size])\n",
    "        entropy_log.append(np.mean(entropy_values[i : i + patch_size]))\n",
    "        i += patch_size  # Move to next patch\n",
    "\n",
    "    # Add [SOS] to the first patch and [EOS] to the last patch\n",
    "    if len(patches) > 0:\n",
    "        patches[0] = [sos_token] + patches[0]  # Add [SOS] to first patch\n",
    "        patches[-1] = patches[-1] + [eos_token]  # Add [EOS] to last patch\n",
    "\n",
    "    # return patches, entropy_log, aromatic_patch_sizes, metal_patch_sizes, charged_patch_sizes\n",
    "    if return_motif_sizes:\n",
    "        return patches, entropy_log, aromatic_patch_sizes, metal_patch_sizes, charged_patch_sizes\n",
    "    else:\n",
    "        return patches, entropy_log  # Default case for dataset use: class SMILESDataset"
   ]
  },
  {
   "cell_type": "code",
   "execution_count": 9,
   "id": "a41407e3-1b9b-4e68-9605-f716611b6994",
   "metadata": {},
   "outputs": [],
   "source": [
    "# 4. Masking Function for MLM (BERT-style)\n",
    "def mask_byte_patches(byte_patches, mask_ratio=0.15, vocab_size=256, sos_token=256, eos_token=257, mask_token=255):\n",
    "    masked_patches, labels = [], []\n",
    "    \n",
    "    for patch in byte_patches:\n",
    "        masked_patch, label = [], []\n",
    "        \n",
    "        for token in patch:\n",
    "            if token == sos_token or token == eos_token:\n",
    "                # Do NOT mask SOS or EOS tokens; keep them unchanged\n",
    "                masked_patch.append(token)\n",
    "                label.append(-100)  # Ignore in loss\n",
    "            elif random.random() < mask_ratio:\n",
    "                rand = random.random()\n",
    "                if rand < 0.8:\n",
    "                    masked_patch.append(mask_token)  # 80% replaced with MASK token (ID: 255)\n",
    "                elif rand < 0.9:\n",
    "                    masked_patch.append(random.randint(2, vocab_size - 1))  # 10% replaced randomly (excluding SOS/EOS)\n",
    "                else:\n",
    "                    masked_patch.append(token)  # 10% unchanged\n",
    "                label.append(token)  # Store original token for loss\n",
    "            else:\n",
    "                masked_patch.append(token)\n",
    "                label.append(-100)  # Ignore in loss\n",
    "            \n",
    "        masked_patches.append(masked_patch)\n",
    "        labels.append(label)\n",
    "\n",
    "    return masked_patches, labels"
   ]
  },
  {
   "cell_type": "code",
   "execution_count": 10,
   "id": "2c2d0e1a-91b8-43e1-b4e3-a3437356d121",
   "metadata": {},
   "outputs": [],
   "source": [
    "def apply_rope(embeddings):\n",
    "    \"\"\"\n",
    "    Apply Rotary Position Embedding (RoPE) to the given embeddings.\n",
    "    Args:\n",
    "        embeddings: Tensor of shape (batch_size, seq_len, d_model)\n",
    "    Returns:\n",
    "        Tensor with RoPE applied\n",
    "    \"\"\"\n",
    "    batch_size, seq_len, d_model = embeddings.shape\n",
    "    assert d_model % 2 == 0, \"Embedding dimension must be even for RoPE\"\n",
    "\n",
    "    # Create position indices\n",
    "    positions = torch.arange(seq_len, dtype=torch.float32, device=embeddings.device).unsqueeze(1)\n",
    "\n",
    "    # Compute theta\n",
    "    theta = 10000 ** (-2 * (torch.arange(d_model // 2, dtype=torch.float32, device=embeddings.device) / d_model))\n",
    "    theta = positions * theta  # Shape: (seq_len, d_model // 2)\n",
    "\n",
    "    # Compute sin and cos values\n",
    "    sin_vals = torch.sin(theta)\n",
    "    cos_vals = torch.cos(theta)\n",
    "\n",
    "    # Apply rotation\n",
    "    embeddings_2d = embeddings.view(batch_size, seq_len, d_model // 2, 2)  # Reshape into 2D components\n",
    "    x1, x2 = embeddings_2d[..., 0], embeddings_2d[..., 1]  # Split into two halves\n",
    "\n",
    "    x1_new = x1 * cos_vals - x2 * sin_vals\n",
    "    x2_new = x1 * sin_vals + x2 * cos_vals\n",
    "\n",
    "    return torch.cat([x1_new, x2_new], dim=-1)  # Merge back into original shape"
   ]
  },
  {
   "cell_type": "code",
   "execution_count": 11,
   "id": "c75ea051-6fa9-49a0-a2af-bceb4acedc86",
   "metadata": {},
   "outputs": [],
   "source": [
    "# 5. Byte Patch Embedding Layer\n",
    "class DynamicBytePatchEmbedding(nn.Module):\n",
    "    def __init__(self, vocab_size=256, embedding_dim=128):\n",
    "        super().__init__()\n",
    "        self.byte_embedding = nn.Embedding(vocab_size + 2, embedding_dim, padding_idx=0)\n",
    "\n",
    "    def forward(self, byte_patches):\n",
    "        \"\"\"\n",
    "        byte_patches: Tensor of shape (batch, seq_len, patch_size)\n",
    "        \"\"\"\n",
    "        patch_embeds = self.byte_embedding(byte_patches) # (batch, seq_len, patch_size, embedding_dim)\n",
    "        # print(f\"Patch Embeddings Shape before Aggregation: {patch_embeds.shape}\")\n",
    "        patch_embeds = patch_embeds.sum(dim=-2) / torch.sqrt(torch.tensor(patch_embeds.shape[-2], dtype=torch.float))\n",
    "\n",
    "        # print(f\"Patch Embeddings Shape Aggregation: {patch_embeds.shape}\")  # (batch, seq_len, embedding_dim)\n",
    "\n",
    "        return patch_embeds # Ensure correct shape alignment"
   ]
  },
  {
   "cell_type": "code",
   "execution_count": 24,
   "id": "62cd6ecc-c636-4a0c-8e81-f12ea864ec4b",
   "metadata": {},
   "outputs": [],
   "source": [
    "# 6. Transformer Encoder Model\n",
    "class SMILESMLMTransformer(nn.Module):\n",
    "    def __init__(self, vocab_size=256, embedding_dim=128, num_heads=8, num_layers=6, dropout=0.1, dim_feedforward=1024):\n",
    "        super().__init__()\n",
    "\n",
    "        self.vocab_size = vocab_size + 2  # Expand vocab for special tokens\n",
    "        self.embedding_dim = embedding_dim\n",
    "        self.dim_feedforward = dim_feedforward\n",
    "        \n",
    "        self.embedding = DynamicBytePatchEmbedding(self.vocab_size, embedding_dim)\n",
    "        self.encoder_layer = nn.TransformerEncoderLayer(d_model=embedding_dim, nhead=num_heads, dropout=dropout, dim_feedforward=self.dim_feedforward)\n",
    "        self.encoder = nn.TransformerEncoder(self.encoder_layer, num_layers=num_layers)\n",
    "        self.lm_head = nn.Linear(embedding_dim, self.vocab_size)\n",
    "\n",
    "    def forward(self, byte_patches):\n",
    "        batch_size, seq_length, patch_size = byte_patches.shape # Ensure correct 3D shape\n",
    "        # # byte_patches = byte_patches.view(batch_size, seq_length, patch_size)  # Keep structure 3D\n",
    "        # print(f\"Input Byte Patches Shape (MLM): {byte_patches.shape}\")\n",
    "\n",
    "        # Get embeddings\n",
    "        x = self.embedding(byte_patches)  # Shape: (batch_size, seq_length, embedding_dim)\n",
    "        # print(f\"Embedding Output Shape (MLM): {x.shape}\")\n",
    "\n",
    "        # Apply RoPE before feeding into Transformer Encoder\n",
    "        x = apply_rope(x)\n",
    "        # print(f\"Rope Embedding Output Shape (MLM): {x.shape}\")\n",
    "\n",
    "        # Pass through transformer\n",
    "        x = self.encoder(x)  # Transformer processes sequence\n",
    "        # print(f\"Transformer Output Shape (MLM): {x.shape}\")\n",
    "\n",
    "        # Pass through language modeling head\n",
    "        x = self.lm_head(x)\n",
    "        # print(f\"Logits Output Shape (MLM): {x.shape}\")\n",
    "    \n",
    "        return x  # Output logits / Pass through linear layer (batch, seq_len, vocab_size)"
   ]
  },
  {
   "cell_type": "code",
   "execution_count": 25,
   "id": "21b15054-7bda-485a-87e1-8c116e9d8503",
   "metadata": {},
   "outputs": [],
   "source": [
    "# 7. Custom Dataset\n",
    "class SMILESDataset(Dataset):\n",
    "    def __init__(self, smiles_list, max_patch_len=128):\n",
    "        self.data, self.labels, self.entropy_log = [], [], []\n",
    "\n",
    "        # Define special token indices\n",
    "        sos_token = 256  # Assign a unique integer for [SOS]\n",
    "        eos_token = 257  # Assign a unique integer for [EOS]\n",
    "        \n",
    "        for smiles in tqdm(smiles_list, desc=\"Processing SMILES\", leave=True):\n",
    "            # Convert SMILES to byte patches\n",
    "            # byte_patches, entropy_vals = dynamic_byte_patching(smiles, return_motif_sizes=False)\n",
    "            byte_patches, entropy_vals, *motif_sizes = dynamic_byte_patching(smiles, return_motif_sizes=False)\n",
    "            \n",
    "            # ✅ Pass byte_patches as-is (no extra list wrapping)\n",
    "            masked_patches, labels = mask_byte_patches(byte_patches)\n",
    "            \n",
    "            # Convert to tensor and pad sequences\n",
    "            masked_patches = [torch.tensor(p, dtype=torch.long) for p in masked_patches]\n",
    "            labels = [torch.tensor(l, dtype=torch.long) for l in labels]\n",
    "\n",
    "            padded_patches = rnn.pad_sequence(masked_patches, batch_first=True, padding_value=0)\n",
    "            padded_labels = rnn.pad_sequence(labels, batch_first=True, padding_value=-100)  # -100 for ignore_index in loss\n",
    "            \n",
    "            self.data.append(padded_patches) \n",
    "            self.labels.append(padded_labels) \n",
    "            self.entropy_log.append(torch.tensor(entropy_vals, dtype=torch.float)) # Convert to tensor / Store entropy per patch\n",
    "\n",
    "        # ✅ Print debugging info AFTER tqdm completes  \n",
    "        print(\"=====================###############==========================\")\n",
    "        print(\"Sample byte patches:\", self.data[0] if self.data else \"No data\")\n",
    "        print(\"Sample byte patches shape:\", self.data[0].shape)\n",
    "        print(\"=====================###############==========================\")\n",
    "\n",
    "    def __len__(self):\n",
    "        return len(self.data)\n",
    "\n",
    "    def __getitem__(self, idx):\n",
    "        return self.data[idx], self.labels[idx], self.entropy_log[idx]"
   ]
  },
  {
   "cell_type": "code",
   "execution_count": 14,
   "id": "17834f0f-5c5b-4b71-84c7-fe70124429cf",
   "metadata": {},
   "outputs": [],
   "source": [
    "def collate_fn(batch):\n",
    "    data, labels, entropy_log = zip(*batch)  # Unzip batch data\n",
    "    \n",
    "    # Ensure all are padded to the longest sequence in batch\n",
    "    max_seq_len = max([d.shape[0] for d in data])  # Get longest sequence\n",
    "    max_patch_len = max([d.shape[1] for d in data])  # Get longest patch length\n",
    "    \n",
    "    data_padded = torch.zeros((len(batch), max_seq_len, max_patch_len), dtype=torch.long)\n",
    "    labels_padded = torch.full((len(batch), max_seq_len, max_patch_len), -100, dtype=torch.long)\n",
    "    entropy_padded = torch.zeros((len(batch), max_seq_len), dtype=torch.float)\n",
    "\n",
    "    for i, (d, l, e) in enumerate(zip(data, labels, entropy_log)):\n",
    "        seq_len, patch_len = d.shape\n",
    "        data_padded[i, :seq_len, :patch_len] = d\n",
    "        labels_padded[i, :seq_len, :patch_len] = l\n",
    "        entropy_padded[i, :seq_len] = e\n",
    "\n",
    "    return data_padded, labels_padded, entropy_padded"
   ]
  },
  {
   "cell_type": "code",
   "execution_count": 35,
   "id": "79dac6da-48a9-4fca-9ecc-f36e5e58edc4",
   "metadata": {},
   "outputs": [],
   "source": [
    "# 8. Training Loop with Logging\n",
    "import sys\n",
    "\n",
    "def train_with_entropy_tuning(model, dataloader, optimizer, criterion, scheduler, epochs=5, save_best_model=True):\n",
    "    # Redirect print output to a log file\n",
    "    log_file = open(\"training_log.txt\", \"w\")\n",
    "    sys.stdout = log_file\n",
    "\n",
    "    device = torch.device(\"cuda\" if torch.cuda.is_available() else \"cpu\")\n",
    "\n",
    "    # Enable Multi-GPU with DataParallel\n",
    "    if torch.cuda.device_count() > 1:\n",
    "        print(f\"Using {torch.cuda.device_count()} GPUs\")\n",
    "        model = torch.nn.DataParallel(model)  # Wrap model with DataParallel\n",
    "    \n",
    "    model.to(device)  # Move model to GPU if available\n",
    "    \n",
    "    model.train()\n",
    "    best_loss = float(\"inf\")\n",
    "    best_epoch = 0\n",
    "    entropy_threshold = 1.5  # Initial base threshold\n",
    "    log_losses, log_accuracies, log_entropy_thresholds = [], [], []\n",
    "\n",
    "    try:\n",
    "        for epoch in range(epochs):\n",
    "            total_loss, correct, total = 0, 0, 0\n",
    "            entropy_values = []\n",
    "\n",
    "            # Use tqdm to track progress of batches within an epoch\n",
    "            epoch_progress = tqdm(dataloader, desc=f\"Epoch {epoch+1}/{epochs}\", leave=True)\n",
    "\n",
    "            for byte_patches, labels, entropy_log in epoch_progress:\n",
    "                # Move the data to the appropriate device (GPU if available)\n",
    "                byte_patches = byte_patches.to(device)\n",
    "                labels = labels.to(device)\n",
    "                entropy_log = [log.to(device) if isinstance(log, torch.Tensor) else log for log in entropy_log]\n",
    "\n",
    "                optimizer.zero_grad()\n",
    "\n",
    "                output = model(byte_patches) # Shape: (batch, seq_len, patch_size, vocab_size) / Forward pass\n",
    "                output = output.reshape(-1, output.shape[-1])  # More robust\n",
    "                \n",
    "                labels = labels.view(output.shape[0], -1).squeeze(-1) # Ensure correct batch size\n",
    "                labels = labels.argmax(dim=-1)  \n",
    "\n",
    "                loss = criterion(output, labels)\n",
    "                loss.backward()\n",
    "                optimizer.step()\n",
    "                scheduler.step()  # Update LR\n",
    "                total_loss += loss.item()\n",
    "\n",
    "                # Compute accuracy\n",
    "                preds = torch.argmax(output, dim=-1)\n",
    "                mask = labels != -100\n",
    "                correct += (preds[mask] == labels[mask]).sum().item()\n",
    "                total += mask.sum().item()\n",
    "\n",
    "                # Track entropy values\n",
    "                entropy_values.extend([np.mean(sublist.cpu().numpy()) for sublist in entropy_log if isinstance(sublist, torch.Tensor) and sublist.numel() > 0])\n",
    "\n",
    "                # Update progress bar description with loss and accuracy\n",
    "                epoch_progress.set_postfix(loss=total_loss / (epoch_progress.n + 1), accuracy=correct / total, entropy_threshold=entropy_threshold)\n",
    "\n",
    "            # Adjust entropy threshold dynamically\n",
    "            avg_entropy = np.mean(entropy_values) if len(entropy_values) > 0 else entropy_threshold\n",
    "            entropy_threshold = 0.9 * entropy_threshold + 0.1 * avg_entropy  # Smooth update\n",
    "\n",
    "            epoch_loss = total_loss / len(dataloader)\n",
    "            epoch_accuracy = correct / total\n",
    "\n",
    "            log_losses.append(epoch_loss)\n",
    "            log_accuracies.append(epoch_accuracy)\n",
    "            log_entropy_thresholds.append(entropy_threshold)\n",
    "\n",
    "            print(f\"Epoch {epoch+1}, Loss: {epoch_loss:.4f}, Accuracy: {epoch_accuracy:.4f}, New Entropy Threshold: {entropy_threshold:.3f}\")\n",
    "\n",
    "            # Save best model\n",
    "            if save_best_model and epoch_loss < best_loss:\n",
    "                best_loss = epoch_loss\n",
    "                best_epoch = epoch + 1\n",
    "                # torch.save(model.state_dict(), \"best_model.pth\")\n",
    "                torch.save(model.module.state_dict() if torch.cuda.device_count() > 1 else model.state_dict(), \"best_model.pth\")\n",
    "                print(f\"Best model saved at epoch {best_epoch} with loss {best_loss:.4f}\")\n",
    "\n",
    "        print(f\"Training complete. Best model was at epoch {best_epoch} with loss {best_loss:.4f}\")\n",
    "\n",
    "        # Plot entropy threshold evolution\n",
    "        plot_entropy_threshold_evolution(log_entropy_thresholds, save_path=\"Entropy Threshold Evolution Across Training Epochs.png\")\n",
    "\n",
    "        # Plot Patch Size Distribution\n",
    "        plot_patch_size_distribution(entropy_values, save_path=\"Distribution of Patch Entropies Across Molecules.png\")\n",
    "\n",
    "    except Exception as e:\n",
    "        print(f\"Training stopped due to error: {str(e)}\", file=sys.stderr)  # Print error to stderr\n",
    "\n",
    "    finally:\n",
    "        # Reset stdout back to normal\n",
    "        sys.stdout = sys.__stdout__\n",
    "        log_file.close()\n",
    "        print(\"Training log saved to training_log.txt\")"
   ]
  },
  {
   "cell_type": "code",
   "execution_count": 36,
   "id": "c96e1eca-a274-4154-9922-98966792ce0c",
   "metadata": {},
   "outputs": [],
   "source": [
    "# 9. Plot entropy threshold evolution\n",
    "def plot_entropy_threshold_evolution(log_entropy_thresholds, save_path=\"Entropy Threshold Evolution Across Training Epochs.png\"):\n",
    "    \"\"\"Visualize how entropy threshold evolves across epochs.\"\"\"\n",
    "    plt.figure(figsize=(8, 5))\n",
    "    plt.plot(range(1, len(log_entropy_thresholds) + 1), log_entropy_thresholds, marker='o', linestyle='-')\n",
    "    plt.xlabel(\"Epoch\")\n",
    "    plt.ylabel(\"Entropy Threshold\")\n",
    "    plt.title(\"Entropy Threshold Evolution Across Training Epochs\")\n",
    "    plt.grid()\n",
    "    plt.savefig(save_path, bbox_inches=\"tight\", dpi=300) # Save the figure with high resolution\n",
    "    print(f\"Results on Entropy Threshold Evolution Across Training Epochs saved to {save_path}\")\n",
    "    plt.show()"
   ]
  },
  {
   "cell_type": "code",
   "execution_count": 37,
   "id": "81277d73-7f6f-4ae7-a728-79544d9adcf8",
   "metadata": {},
   "outputs": [],
   "source": [
    "# 10. Patch Size Distribution Visualization\n",
    "def plot_patch_size_distribution(entropy_values, save_path=\"Distribution of Patch Entropies Across Molecules.png\"):\n",
    "    plt.figure(figsize=(8, 5))\n",
    "    plt.hist(entropy_values, bins=20, color=\"green\", alpha=0.7, edgecolor=\"black\")\n",
    "    plt.xlabel(\"Patch Entropy\")\n",
    "    plt.ylabel(\"Frequency\")\n",
    "    plt.title(\"Distribution of Patch Entropies Across Molecules\")\n",
    "    plt.savefig(save_path, bbox_inches=\"tight\", dpi=300) # Save the figure with high resolution\n",
    "    print(f\"Results on Distribution of Patch Entropies Across Molecules saved to {save_path}\")\n",
    "    plt.show()"
   ]
  },
  {
   "cell_type": "code",
   "execution_count": 38,
   "id": "ec913a92-0760-4401-8ca8-fbc757798ebe",
   "metadata": {},
   "outputs": [],
   "source": [
    "def plot_patch_size_comparison(aromatic_sizes, metal_sizes, charged_sizes, save_path=\"patch_size_comparison.png\"):\n",
    "    plt.figure(figsize=(8, 5))\n",
    "\n",
    "    plt.hist(aromatic_sizes, bins=10, color=\"blue\", alpha=0.6, label=\"Aromatic Patches\", edgecolor=\"black\")\n",
    "    plt.hist(metal_sizes, bins=10, color=\"red\", alpha=0.6, label=\"Metal Patches\", edgecolor=\"black\")\n",
    "    plt.hist(charged_sizes, bins=10, color=\"green\", alpha=0.6, label=\"Charged Patches\", edgecolor=\"black\")\n",
    "\n",
    "    plt.xlabel(\"Patch Size\")\n",
    "    plt.ylabel(\"Frequency\")\n",
    "    plt.title(\"Comparison of Patch Sizes for Aromatic, Metal, and Charged Groups\")\n",
    "    plt.legend()\n",
    "    \n",
    "    plt.savefig(save_path, bbox_inches=\"tight\", dpi=300)  # Save with high resolution\n",
    "    print(f\"Patch size comparison plot saved to {save_path}\")\n",
    "    print(f\"Patch size comparison saved to {save_path}\")\n",
    "    \n",
    "    plt.show()"
   ]
  },
  {
   "cell_type": "code",
   "execution_count": 39,
   "id": "0ac403e7-93a7-4fdc-a842-86fd28d7b320",
   "metadata": {},
   "outputs": [],
   "source": [
    "def plot_patch_size_comparison_2(aromatic_sizes, metal_sizes, charged_sizes):\n",
    "    \"\"\"Plots a comparison of patch sizes for aromatic, metal, and charged groups.\"\"\"\n",
    "    \n",
    "    # data = [\n",
    "    #     (\"Aromatic\", size) for size in aromatic_sizes\n",
    "    # ] + [\n",
    "    #     (\"Metal\", size) for size in metal_sizes\n",
    "    # ] + [\n",
    "    #     (\"Charged\", size) for size in charged_sizes\n",
    "    # ]\n",
    "    data = []\n",
    "    if aromatic_sizes:\n",
    "        data.extend([(\"Aromatic\", size) for size in aromatic_sizes])\n",
    "    if metal_sizes:\n",
    "        data.extend([(\"Metal\", size) for size in metal_sizes])\n",
    "    if charged_sizes:\n",
    "        data.extend([(\"Charged\", size) for size in charged_sizes])\n",
    "    \n",
    "    if not data:\n",
    "        print(\"No patch sizes found for aromatic, metal, or charged groups.\")\n",
    "        return\n",
    "    \n",
    "    categories, patch_sizes = zip(*data)\n",
    "\n",
    "    plt.figure(figsize=(8, 5))\n",
    "    sns.boxplot(x=categories, y=patch_sizes, palette={\"Aromatic\": \"green\", \"Metal\": \"red\", \"Charged\": \"blue\"})\n",
    "    \n",
    "    plt.xlabel(\"Patch Type\")\n",
    "    plt.ylabel(\"Patch Size\")\n",
    "    plt.title(\"Comparison of Patch Sizes for Aromatic, Metal, and Charged Groups\")\n",
    "    \n",
    "    plt.savefig(\"patch_size_comparison_2.png\", dpi=300, bbox_inches=\"tight\")\n",
    "    plt.show()"
   ]
  },
  {
   "cell_type": "code",
   "execution_count": 40,
   "id": "298d5e7d-d144-41e1-abd7-38375740fade",
   "metadata": {
    "scrolled": true
   },
   "outputs": [
    {
     "data": {
      "application/vnd.jupyter.widget-view+json": {
       "model_id": "c301b7af0456463080b8665d6d2c362d",
       "version_major": 2,
       "version_minor": 0
      },
      "text/plain": [
       "Processing SMILES:   0%|          | 0/10000000 [00:00<?, ?it/s]"
      ]
     },
     "metadata": {},
     "output_type": "display_data"
    },
    {
     "name": "stderr",
     "output_type": "stream",
     "text": [
      "IOPub message rate exceeded.\n",
      "The Jupyter server will temporarily stop sending output\n",
      "to the client in order to avoid crashing it.\n",
      "To change this limit, set the config variable\n",
      "`--ServerApp.iopub_msg_rate_limit`.\n",
      "\n",
      "Current values:\n",
      "ServerApp.iopub_msg_rate_limit=1000.0 (msgs/sec)\n",
      "ServerApp.rate_limit_window=3.0 (secs)\n",
      "\n",
      "IOPub message rate exceeded.\n",
      "The Jupyter server will temporarily stop sending output\n",
      "to the client in order to avoid crashing it.\n",
      "To change this limit, set the config variable\n",
      "`--ServerApp.iopub_msg_rate_limit`.\n",
      "\n",
      "Current values:\n",
      "ServerApp.iopub_msg_rate_limit=1000.0 (msgs/sec)\n",
      "ServerApp.rate_limit_window=3.0 (secs)\n",
      "\n"
     ]
    },
    {
     "name": "stdout",
     "output_type": "stream",
     "text": [
      "=====================###############==========================\n",
      "Sample byte patches: tensor([[256, 255,  61,  67,  40,   0],\n",
      "        [ 67,  40,  79,  41,   0,   0],\n",
      "        [ 83,  40,  61, 255,   0,   0],\n",
      "        [ 41,  40, 255,  79,   0,   0],\n",
      "        [ 41,  67,  67,  79,  41,  78],\n",
      "        [ 49,  67,  67,  61,  67,  40],\n",
      "        [ 99,  50, 255,  40,   0,   0],\n",
      "        [ 70,  41, 255,  99,   0,   0],\n",
      "        [ 40,  78,  51,  67,   0,   0],\n",
      "        [ 67,  40,  67,  79,   0,   0],\n",
      "        [ 99,  52,  99, 255, 111, 195],\n",
      "        [ 52,  41,  79,  67,   0,   0],\n",
      "        [255, 255,  79,  41,   0,   0],\n",
      "        [ 99, 255,  50,  70,   0,   0],\n",
      "        [ 41,  67,  67,  49, 257,   0]])\n",
      "Sample byte patches shape: torch.Size([15, 6])\n",
      "=====================###############==========================\n"
     ]
    },
    {
     "name": "stderr",
     "output_type": "stream",
     "text": [
      "/home/medard/venv/lib/python3.8/site-packages/torch/nn/modules/transformer.py:307: UserWarning: enable_nested_tensor is True, but self.use_nested_tensor is False because encoder_layer.self_attn.batch_first was not True(use batch_first for better inference performance)\n",
      "  warnings.warn(f\"enable_nested_tensor is True, but self.use_nested_tensor is False because {why_not_sparsity_fast_path}\")\n"
     ]
    },
    {
     "data": {
      "application/vnd.jupyter.widget-view+json": {
       "model_id": "26058d96217d473a93c4b830bc35507a",
       "version_major": 2,
       "version_minor": 0
      },
      "text/plain": [
       "Epoch 1/5:   0%|          | 0/156250 [00:00<?, ?it/s]"
      ]
     },
     "metadata": {},
     "output_type": "display_data"
    },
    {
     "name": "stderr",
     "output_type": "stream",
     "text": [
      "IOPub message rate exceeded.\n",
      "The Jupyter server will temporarily stop sending output\n",
      "to the client in order to avoid crashing it.\n",
      "To change this limit, set the config variable\n",
      "`--ServerApp.iopub_msg_rate_limit`.\n",
      "\n",
      "Current values:\n",
      "ServerApp.iopub_msg_rate_limit=1000.0 (msgs/sec)\n",
      "ServerApp.rate_limit_window=3.0 (secs)\n",
      "\n",
      "IOPub message rate exceeded.\n",
      "The Jupyter server will temporarily stop sending output\n",
      "to the client in order to avoid crashing it.\n",
      "To change this limit, set the config variable\n",
      "`--ServerApp.iopub_msg_rate_limit`.\n",
      "\n",
      "Current values:\n",
      "ServerApp.iopub_msg_rate_limit=1000.0 (msgs/sec)\n",
      "ServerApp.rate_limit_window=3.0 (secs)\n",
      "\n",
      "IOPub message rate exceeded.\n",
      "The Jupyter server will temporarily stop sending output\n",
      "to the client in order to avoid crashing it.\n",
      "To change this limit, set the config variable\n",
      "`--ServerApp.iopub_msg_rate_limit`.\n",
      "\n",
      "Current values:\n",
      "ServerApp.iopub_msg_rate_limit=1000.0 (msgs/sec)\n",
      "ServerApp.rate_limit_window=3.0 (secs)\n",
      "\n",
      "IOPub message rate exceeded.\n",
      "The Jupyter server will temporarily stop sending output\n",
      "to the client in order to avoid crashing it.\n",
      "To change this limit, set the config variable\n",
      "`--ServerApp.iopub_msg_rate_limit`.\n",
      "\n",
      "Current values:\n",
      "ServerApp.iopub_msg_rate_limit=1000.0 (msgs/sec)\n",
      "ServerApp.rate_limit_window=3.0 (secs)\n",
      "\n",
      "IOPub message rate exceeded.\n",
      "The Jupyter server will temporarily stop sending output\n",
      "to the client in order to avoid crashing it.\n",
      "To change this limit, set the config variable\n",
      "`--ServerApp.iopub_msg_rate_limit`.\n",
      "\n",
      "Current values:\n",
      "ServerApp.iopub_msg_rate_limit=1000.0 (msgs/sec)\n",
      "ServerApp.rate_limit_window=3.0 (secs)\n",
      "\n"
     ]
    },
    {
     "name": "stdout",
     "output_type": "stream",
     "text": [
      "DONE!!!!!!\n"
     ]
    }
   ],
   "source": [
    "# 11. Run Pretraining with Logging\n",
    "\n",
    "# Ensure CUDA is used / Define device globally\n",
    "device = torch.device(\"cuda\" if torch.cuda.is_available() else \"cpu\")\n",
    "\n",
    "if __name__ == \"__main__\":\n",
    "    smiles_list = smiles_sample\n",
    "    \n",
    "    dataset = SMILESDataset(smiles_list)\n",
    "    dataloader = DataLoader(dataset, batch_size=64, shuffle=True, collate_fn=collate_fn)\n",
    "\n",
    "    model = SMILESMLMTransformer().to(device)\n",
    "    \n",
    "    optimizer = torch.optim.AdamW(model.parameters(), lr=0.001, weight_decay=1e-2)\n",
    "\n",
    "    # Compute training steps for scheduler\n",
    "    num_training_steps = len(dataloader) * 5  # 5 epochs\n",
    "    num_warmup_steps = int(0.1 * num_training_steps)  # 10% warmup steps\n",
    "    \n",
    "    # Learning rate scheduler with warmup\n",
    "    scheduler = get_scheduler(\n",
    "        \"cosine\",  # Can also use \"linear\"\n",
    "        optimizer=optimizer,\n",
    "        num_warmup_steps=num_warmup_steps,\n",
    "        num_training_steps=num_training_steps\n",
    "    )\n",
    "\n",
    "    criterion = nn.CrossEntropyLoss(ignore_index=-100)\n",
    "\n",
    "    train_with_entropy_tuning(model, dataloader, optimizer, criterion, scheduler, epochs=5, save_best_model=True)\n",
    "\n",
    "    # Lists to store patch sizes for each motif\n",
    "    all_aromatic_sizes = []\n",
    "    all_metal_sizes = []\n",
    "    all_charged_sizes = []\n",
    "\n",
    "    for smiles in smiles_list:\n",
    "        patches, entropy_vals, aromatic_sizes, metal_sizes, charged_sizes = dynamic_byte_patching(smiles, return_motif_sizes=True)\n",
    "        \n",
    "        all_aromatic_sizes.extend(aromatic_sizes)\n",
    "        all_metal_sizes.extend(metal_sizes)\n",
    "        all_charged_sizes.extend(charged_sizes)\n",
    "        # print(f\"Aromatic sizes: {all_aromatic_sizes}\")\n",
    "        # print(f\"Metal sizes: {all_metal_sizes}\")\n",
    "        # print(f\"Charged sizes: {all_charged_sizes}\")\n",
    "\n",
    "    # Plot the patch size comparison\n",
    "    plot_patch_size_comparison(all_aromatic_sizes, all_metal_sizes, all_charged_sizes)\n",
    "\n",
    "    plot_patch_size_comparison_2(all_aromatic_sizes, all_metal_sizes, all_charged_sizes)"
   ]
  },
  {
   "cell_type": "code",
   "execution_count": 41,
   "id": "74fc1ccc-99d0-4375-be3a-40f8b2c28735",
   "metadata": {
    "scrolled": true
   },
   "outputs": [],
   "source": [
    "print(\"DONE!!!!!!\")"
   ]
  },
  {
   "cell_type": "code",
   "execution_count": 43,
   "id": "be13773d-c4b0-444a-969c-1354ce185b35",
   "metadata": {},
   "outputs": [
    {
     "data": {
      "text/plain": [
       "10000000"
      ]
     },
     "execution_count": 43,
     "metadata": {},
     "output_type": "execute_result"
    }
   ],
   "source": [
    "len(smiles_list)"
   ]
  },
  {
   "cell_type": "code",
   "execution_count": 45,
   "id": "0684ccd1-c468-43ac-a748-cea833f01ab2",
   "metadata": {},
   "outputs": [
    {
     "data": {
      "text/plain": [
       "10000000"
      ]
     },
     "execution_count": 45,
     "metadata": {},
     "output_type": "execute_result"
    }
   ],
   "source": [
    "len(smiles_sample)"
   ]
  },
  {
   "cell_type": "code",
   "execution_count": null,
   "id": "920cff6e-6f47-48cf-9737-6ea59e021824",
   "metadata": {},
   "outputs": [],
   "source": []
  },
  {
   "cell_type": "code",
   "execution_count": null,
   "id": "3a8ad701-242c-42eb-8fac-2aa0701463aa",
   "metadata": {},
   "outputs": [],
   "source": []
  },
  {
   "cell_type": "markdown",
   "id": "2def668f-7a4d-49b9-a825-a4d57ad0990d",
   "metadata": {},
   "source": [
    "## Best model Loading Test"
   ]
  },
  {
   "cell_type": "code",
   "execution_count": 26,
   "id": "8b46e003-0f8a-452c-bf24-0557110198ca",
   "metadata": {},
   "outputs": [],
   "source": [
    "m_path = \"best_model_100M.pth\""
   ]
  },
  {
   "cell_type": "code",
   "execution_count": 27,
   "id": "8c38aee3-94cb-4885-9391-1038ed68008f",
   "metadata": {},
   "outputs": [
    {
     "name": "stderr",
     "output_type": "stream",
     "text": [
      "/home/egg2018037024/venv310/lib/python3.10/site-packages/torch/nn/modules/transformer.py:286: UserWarning: enable_nested_tensor is True, but self.use_nested_tensor is False because encoder_layer.self_attn.batch_first was not True(use batch_first for better inference performance)\n",
      "  warnings.warn(f\"enable_nested_tensor is True, but self.use_nested_tensor is False because {why_not_sparsity_fast_path}\")\n"
     ]
    }
   ],
   "source": [
    "model = SMILESMLMTransformer(embedding_dim=192, num_heads=8, num_layers=6, dropout=0.1, dim_feedforward=1024)\n",
    "#model = torch.nn.DataParallel(model)"
   ]
  },
  {
   "cell_type": "code",
   "execution_count": 28,
   "id": "4180d398-c237-415e-84b3-4be137bad2c9",
   "metadata": {},
   "outputs": [
    {
     "data": {
      "text/plain": [
       "<All keys matched successfully>"
      ]
     },
     "execution_count": 28,
     "metadata": {},
     "output_type": "execute_result"
    }
   ],
   "source": [
    "model.load_state_dict(torch.load(m_path))"
   ]
  },
  {
   "cell_type": "code",
   "execution_count": null,
   "id": "e0ded4c3-d19c-4350-b567-cccda34d3af6",
   "metadata": {},
   "outputs": [],
   "source": []
  }
 ],
 "metadata": {
  "kernelspec": {
   "display_name": "Python 3 (ipykernel)",
   "language": "python",
   "name": "python3"
  },
  "language_info": {
   "codemirror_mode": {
    "name": "ipython",
    "version": 3
   },
   "file_extension": ".py",
   "mimetype": "text/x-python",
   "name": "python",
   "nbconvert_exporter": "python",
   "pygments_lexer": "ipython3",
   "version": "3.10.15"
  }
 },
 "nbformat": 4,
 "nbformat_minor": 5
}
